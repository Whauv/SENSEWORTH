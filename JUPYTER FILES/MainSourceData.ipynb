{
 "cells": [
  {
   "cell_type": "code",
   "execution_count": 2,
   "metadata": {},
   "outputs": [],
   "source": [
    "import pandas as pd\n",
    "import numpy as np\n",
    "import tweepy\n",
    "import pickle"
   ]
  },
  {
   "cell_type": "code",
   "execution_count": 4,
   "metadata": {},
   "outputs": [],
   "source": [
    "cleaning_data= pickle.load(open(\"cleaning_data.sav\", 'rb'))"
   ]
  },
  {
   "cell_type": "code",
   "execution_count": 13,
   "metadata": {},
   "outputs": [
    {
     "name": "stdout",
     "output_type": "stream",
     "text": [
      "                                                Tweet\n",
      "0   ⚡ Dom Young?\\n⚡ Tommy Makinson?\\n⚡ Ryan Hall?\\...\n",
      "1   Victory by two or more goals over Switzerland ...\n",
      "2                    Anyone missing? \\n\\n#BBCFootball\n",
      "3   🥇 The duo beat Italy's Diana Bacosi and Gabrie...\n",
      "4   Roberto Firmino's form in front of goal is rep...\n",
      "5   A knee injury means he will not play for Liver...\n",
      "6   Shakhtar Donetsk coach Igor Jovicevic says the...\n",
      "7   🗣️ \"Surprise and disappointment.\"\\n\\nThat's Re...\n",
      "8   ❌ The Chelsea midfielder has suffered a reacti...\n",
      "9   It's almost time! 🙌\\n\\nThe biggest tournament ...\n",
      "10  For a couple of hours on Sunday lunchtime, Ike...\n",
      "11  RT @BBCMOTD: Awkward...😬\\n\\n#BBCFootball https...\n",
      "12  England's Leah Williamson and Lotte Wubben-Moy...\n",
      "13  A run of five straight defeats for Steve Coope...\n",
      "14  RT @BBCMOTD: Under pressure?\\n\\n#BBCFootball #...\n",
      "15  That's all at the City Ground!\\n\\nThe points a...\n",
      "16  Plenty of head scratching from both managers i...\n",
      "17  🏴󠁧󠁢󠁳󠁣󠁴󠁿 Scotland host Republic of Ireland on T...\n",
      "18  Back underway!\\n\\n💻📱 Follow live on the @BBCSp...\n",
      "19  RT @5liveSport: \"Everyone is getting behind th...\n",
      "                                                  URL\n",
      "0   https://twitter.com/user/status/15797285060445...\n",
      "1   https://twitter.com/user/status/15797234718353...\n",
      "2   https://twitter.com/user/status/15797184387794...\n",
      "3   https://twitter.com/user/status/15797134072797...\n",
      "4   https://twitter.com/user/status/15797083723869...\n",
      "5   https://twitter.com/user/status/15797033392852...\n",
      "6   https://twitter.com/user/status/15796995646254...\n",
      "7   https://twitter.com/user/status/15796034310602...\n",
      "8   https://twitter.com/user/status/15795976431346...\n",
      "9   https://twitter.com/user/status/15795938687894...\n",
      "10  https://twitter.com/user/status/15795883316288...\n",
      "11  https://twitter.com/user/status/15795864156454...\n",
      "12  https://twitter.com/user/status/15795855919724...\n",
      "13  https://twitter.com/user/status/15795790381164...\n",
      "14  https://twitter.com/user/status/15795772311138...\n",
      "15  https://twitter.com/user/status/15795754346515...\n",
      "16  https://twitter.com/user/status/15795717929976...\n",
      "17  https://twitter.com/user/status/15795666888607...\n",
      "18  https://twitter.com/user/status/15795633091199...\n",
      "19  https://twitter.com/user/status/15795606813677...\n"
     ]
    },
    {
     "ename": "KeyError",
     "evalue": "'id'",
     "output_type": "error",
     "traceback": [
      "\u001b[1;31m---------------------------------------------------------------------------\u001b[0m",
      "\u001b[1;31mKeyError\u001b[0m                                  Traceback (most recent call last)",
      "\u001b[1;32me:\\SenseWorth\\New_code\\MainSourceData.ipynb Cell 3\u001b[0m in \u001b[0;36m<cell line: 39>\u001b[1;34m()\u001b[0m\n\u001b[0;32m     <a href='vscode-notebook-cell:/e%3A/SenseWorth/New_code/MainSourceData.ipynb#X10sZmlsZQ%3D%3D?line=36'>37</a>\u001b[0m   TotalData\u001b[39m.\u001b[39mto_csv(\u001b[39m'\u001b[39m\u001b[39mMain.csv\u001b[39m\u001b[39m'\u001b[39m)\n\u001b[0;32m     <a href='vscode-notebook-cell:/e%3A/SenseWorth/New_code/MainSourceData.ipynb#X10sZmlsZQ%3D%3D?line=38'>39</a>\u001b[0m \u001b[39mif\u001b[39;00m \u001b[39m__name__\u001b[39m \u001b[39m==\u001b[39m \u001b[39m'\u001b[39m\u001b[39m__main__\u001b[39m\u001b[39m'\u001b[39m:\n\u001b[1;32m---> <a href='vscode-notebook-cell:/e%3A/SenseWorth/New_code/MainSourceData.ipynb#X10sZmlsZQ%3D%3D?line=39'>40</a>\u001b[0m   get_tweets(\u001b[39m\"\u001b[39;49m\u001b[39m@BBCSport\u001b[39;49m\u001b[39m\"\u001b[39;49m)\n",
      "\u001b[1;32me:\\SenseWorth\\New_code\\MainSourceData.ipynb Cell 3\u001b[0m in \u001b[0;36mget_tweets\u001b[1;34m(username)\u001b[0m\n\u001b[0;32m     <a href='vscode-notebook-cell:/e%3A/SenseWorth/New_code/MainSourceData.ipynb#X10sZmlsZQ%3D%3D?line=30'>31</a>\u001b[0m \u001b[39mprint\u001b[39m(data)\n\u001b[0;32m     <a href='vscode-notebook-cell:/e%3A/SenseWorth/New_code/MainSourceData.ipynb#X10sZmlsZQ%3D%3D?line=32'>33</a>\u001b[0m \u001b[39mprint\u001b[39m(data2)\n\u001b[1;32m---> <a href='vscode-notebook-cell:/e%3A/SenseWorth/New_code/MainSourceData.ipynb#X10sZmlsZQ%3D%3D?line=34'>35</a>\u001b[0m TotalData \u001b[39m=\u001b[39m pd\u001b[39m.\u001b[39;49mmerge(data,data2,on\u001b[39m=\u001b[39;49m\u001b[39m'\u001b[39;49m\u001b[39mid\u001b[39;49m\u001b[39m'\u001b[39;49m,how\u001b[39m=\u001b[39;49m\u001b[39m'\u001b[39;49m\u001b[39mleft\u001b[39;49m\u001b[39m'\u001b[39;49m)[[\u001b[39m'\u001b[39m\u001b[39mtweets\u001b[39m\u001b[39m'\u001b[39m,\u001b[39m'\u001b[39m\u001b[39mURL\u001b[39m\u001b[39m'\u001b[39m]]\n\u001b[0;32m     <a href='vscode-notebook-cell:/e%3A/SenseWorth/New_code/MainSourceData.ipynb#X10sZmlsZQ%3D%3D?line=36'>37</a>\u001b[0m TotalData\u001b[39m.\u001b[39mto_csv(\u001b[39m'\u001b[39m\u001b[39mMain.csv\u001b[39m\u001b[39m'\u001b[39m)\n",
      "File \u001b[1;32md:\\Python\\lib\\site-packages\\pandas\\core\\reshape\\merge.py:107\u001b[0m, in \u001b[0;36mmerge\u001b[1;34m(left, right, how, on, left_on, right_on, left_index, right_index, sort, suffixes, copy, indicator, validate)\u001b[0m\n\u001b[0;32m     90\u001b[0m \u001b[39m@Substitution\u001b[39m(\u001b[39m\"\u001b[39m\u001b[39m\\n\u001b[39;00m\u001b[39mleft : DataFrame or named Series\u001b[39m\u001b[39m\"\u001b[39m)\n\u001b[0;32m     91\u001b[0m \u001b[39m@Appender\u001b[39m(_merge_doc, indents\u001b[39m=\u001b[39m\u001b[39m0\u001b[39m)\n\u001b[0;32m     92\u001b[0m \u001b[39mdef\u001b[39;00m \u001b[39mmerge\u001b[39m(\n\u001b[1;32m   (...)\u001b[0m\n\u001b[0;32m    105\u001b[0m     validate: \u001b[39mstr\u001b[39m \u001b[39m|\u001b[39m \u001b[39mNone\u001b[39;00m \u001b[39m=\u001b[39m \u001b[39mNone\u001b[39;00m,\n\u001b[0;32m    106\u001b[0m ) \u001b[39m-\u001b[39m\u001b[39m>\u001b[39m DataFrame:\n\u001b[1;32m--> 107\u001b[0m     op \u001b[39m=\u001b[39m _MergeOperation(\n\u001b[0;32m    108\u001b[0m         left,\n\u001b[0;32m    109\u001b[0m         right,\n\u001b[0;32m    110\u001b[0m         how\u001b[39m=\u001b[39;49mhow,\n\u001b[0;32m    111\u001b[0m         on\u001b[39m=\u001b[39;49mon,\n\u001b[0;32m    112\u001b[0m         left_on\u001b[39m=\u001b[39;49mleft_on,\n\u001b[0;32m    113\u001b[0m         right_on\u001b[39m=\u001b[39;49mright_on,\n\u001b[0;32m    114\u001b[0m         left_index\u001b[39m=\u001b[39;49mleft_index,\n\u001b[0;32m    115\u001b[0m         right_index\u001b[39m=\u001b[39;49mright_index,\n\u001b[0;32m    116\u001b[0m         sort\u001b[39m=\u001b[39;49msort,\n\u001b[0;32m    117\u001b[0m         suffixes\u001b[39m=\u001b[39;49msuffixes,\n\u001b[0;32m    118\u001b[0m         copy\u001b[39m=\u001b[39;49mcopy,\n\u001b[0;32m    119\u001b[0m         indicator\u001b[39m=\u001b[39;49mindicator,\n\u001b[0;32m    120\u001b[0m         validate\u001b[39m=\u001b[39;49mvalidate,\n\u001b[0;32m    121\u001b[0m     )\n\u001b[0;32m    122\u001b[0m     \u001b[39mreturn\u001b[39;00m op\u001b[39m.\u001b[39mget_result()\n",
      "File \u001b[1;32md:\\Python\\lib\\site-packages\\pandas\\core\\reshape\\merge.py:700\u001b[0m, in \u001b[0;36m_MergeOperation.__init__\u001b[1;34m(self, left, right, how, on, left_on, right_on, axis, left_index, right_index, sort, suffixes, copy, indicator, validate)\u001b[0m\n\u001b[0;32m    693\u001b[0m \u001b[39mself\u001b[39m\u001b[39m.\u001b[39m_cross \u001b[39m=\u001b[39m cross_col\n\u001b[0;32m    695\u001b[0m \u001b[39m# note this function has side effects\u001b[39;00m\n\u001b[0;32m    696\u001b[0m (\n\u001b[0;32m    697\u001b[0m     \u001b[39mself\u001b[39m\u001b[39m.\u001b[39mleft_join_keys,\n\u001b[0;32m    698\u001b[0m     \u001b[39mself\u001b[39m\u001b[39m.\u001b[39mright_join_keys,\n\u001b[0;32m    699\u001b[0m     \u001b[39mself\u001b[39m\u001b[39m.\u001b[39mjoin_names,\n\u001b[1;32m--> 700\u001b[0m ) \u001b[39m=\u001b[39m \u001b[39mself\u001b[39;49m\u001b[39m.\u001b[39;49m_get_merge_keys()\n\u001b[0;32m    702\u001b[0m \u001b[39m# validate the merge keys dtypes. We may need to coerce\u001b[39;00m\n\u001b[0;32m    703\u001b[0m \u001b[39m# to avoid incompatible dtypes\u001b[39;00m\n\u001b[0;32m    704\u001b[0m \u001b[39mself\u001b[39m\u001b[39m.\u001b[39m_maybe_coerce_merge_keys()\n",
      "File \u001b[1;32md:\\Python\\lib\\site-packages\\pandas\\core\\reshape\\merge.py:1097\u001b[0m, in \u001b[0;36m_MergeOperation._get_merge_keys\u001b[1;34m(self)\u001b[0m\n\u001b[0;32m   1095\u001b[0m \u001b[39mif\u001b[39;00m \u001b[39mnot\u001b[39;00m is_rkey(rk):\n\u001b[0;32m   1096\u001b[0m     \u001b[39mif\u001b[39;00m rk \u001b[39mis\u001b[39;00m \u001b[39mnot\u001b[39;00m \u001b[39mNone\u001b[39;00m:\n\u001b[1;32m-> 1097\u001b[0m         right_keys\u001b[39m.\u001b[39mappend(right\u001b[39m.\u001b[39;49m_get_label_or_level_values(rk))\n\u001b[0;32m   1098\u001b[0m     \u001b[39melse\u001b[39;00m:\n\u001b[0;32m   1099\u001b[0m         \u001b[39m# work-around for merge_asof(right_index=True)\u001b[39;00m\n\u001b[0;32m   1100\u001b[0m         right_keys\u001b[39m.\u001b[39mappend(right\u001b[39m.\u001b[39mindex)\n",
      "File \u001b[1;32md:\\Python\\lib\\site-packages\\pandas\\core\\generic.py:1840\u001b[0m, in \u001b[0;36mNDFrame._get_label_or_level_values\u001b[1;34m(self, key, axis)\u001b[0m\n\u001b[0;32m   1838\u001b[0m     values \u001b[39m=\u001b[39m \u001b[39mself\u001b[39m\u001b[39m.\u001b[39maxes[axis]\u001b[39m.\u001b[39mget_level_values(key)\u001b[39m.\u001b[39m_values\n\u001b[0;32m   1839\u001b[0m \u001b[39melse\u001b[39;00m:\n\u001b[1;32m-> 1840\u001b[0m     \u001b[39mraise\u001b[39;00m \u001b[39mKeyError\u001b[39;00m(key)\n\u001b[0;32m   1842\u001b[0m \u001b[39m# Check for duplicates\u001b[39;00m\n\u001b[0;32m   1843\u001b[0m \u001b[39mif\u001b[39;00m values\u001b[39m.\u001b[39mndim \u001b[39m>\u001b[39m \u001b[39m1\u001b[39m:\n",
      "\u001b[1;31mKeyError\u001b[0m: 'id'"
     ]
    }
   ],
   "source": [
    "consumer_key =  \"2y5779N6k5EZpOz3VmOyabJHc\"\n",
    "consumer_secret = \"q4DR8al72steNMS8Uf4PMmAU9sR0OTWMEwbu2DGZU35S7jN1ff\"\n",
    "access_token = \"1534057526483832832-cHWlsx6qpL9XlXt5zCSbG1pIom6lom\"\n",
    "access_token_secret = \"Kj7bDn8dlvQEloRflgpAtLC1IgOoF9dkWFluRfux5MlzD\"\n",
    "\n",
    "def get_tweets(username):\n",
    "  auth=tweepy.OAuthHandler(consumer_key,consumer_secret)\n",
    "\n",
    "  auth.set_access_token(access_token,access_token_secret)\n",
    "\n",
    "  api = tweepy.API(auth)\n",
    "\n",
    "  number_of_tweets = 200\n",
    "\n",
    "  tweets = api.user_timeline(screen_name=username)\n",
    "\n",
    "  tmp=[]\n",
    "  url=[]\n",
    "  tweets_sui = [tweet.text for tweet in tweets]\n",
    "  tweets_url = [f\"https://twitter.com/user/status/{tweet.id}\" for tweet in tweets]\n",
    "  for j in tweets_sui:\n",
    "    tmp.append(j)\n",
    "  \n",
    "  for k in tweets_url:\n",
    "    url.append(k)\n",
    "  \n",
    "  data = pd.DataFrame(tmp,columns=['Tweet'])\n",
    "\n",
    "  data2 = pd.DataFrame(url,columns=['URL'])\n",
    "\n",
    "  print(data)\n",
    "\n",
    "  print(data2)\n",
    "\n",
    "  TotalData = pd.merge(data,data2,on='id',how='left')[['tweets','URL']]\n",
    "\n",
    "  TotalData.to_csv('Main.csv')\n",
    "\n",
    "if __name__ == '__main__':\n",
    "  get_tweets(\"@BBCSport\")\n"
   ]
  },
  {
   "cell_type": "code",
   "execution_count": 7,
   "metadata": {},
   "outputs": [
    {
     "ename": "NameError",
     "evalue": "name 'data' is not defined",
     "output_type": "error",
     "traceback": [
      "\u001b[1;31m---------------------------------------------------------------------------\u001b[0m",
      "\u001b[1;31mNameError\u001b[0m                                 Traceback (most recent call last)",
      "\u001b[1;32me:\\SenseWorth\\New_code\\MainSourceData.ipynb Cell 4\u001b[0m in \u001b[0;36m<cell line: 1>\u001b[1;34m()\u001b[0m\n\u001b[1;32m----> <a href='vscode-notebook-cell:/e%3A/SenseWorth/New_code/MainSourceData.ipynb#X11sZmlsZQ%3D%3D?line=0'>1</a>\u001b[0m data\n",
      "\u001b[1;31mNameError\u001b[0m: name 'data' is not defined"
     ]
    }
   ],
   "source": []
  }
 ],
 "metadata": {
  "kernelspec": {
   "display_name": "Python 3.10.5 64-bit",
   "language": "python",
   "name": "python3"
  },
  "language_info": {
   "codemirror_mode": {
    "name": "ipython",
    "version": 3
   },
   "file_extension": ".py",
   "mimetype": "text/x-python",
   "name": "python",
   "nbconvert_exporter": "python",
   "pygments_lexer": "ipython3",
   "version": "3.10.5"
  },
  "orig_nbformat": 4,
  "vscode": {
   "interpreter": {
    "hash": "2469a70536e4d2335a2ea8907942d0699c37342a371ac185bdb5b0aa6f073890"
   }
  }
 },
 "nbformat": 4,
 "nbformat_minor": 2
}
